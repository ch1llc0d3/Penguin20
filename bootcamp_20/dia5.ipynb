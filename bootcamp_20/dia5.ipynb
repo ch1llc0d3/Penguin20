{
 "cells": [
  {
   "cell_type": "code",
   "execution_count": null,
   "metadata": {},
   "outputs": [],
   "source": []
  },
  {
   "cell_type": "markdown",
   "metadata": {},
   "source": [
    "Challenge 1 🤺\n",
    "Escribir un programa que cree un diccionario vacío y lo vaya llenado con información sobre una persona (por ejemplo nombre, edad, sexo, teléfono, correo electrónico, etc.) que se le pida al usuario. Cada vez que se añada un nuevo dato debe imprimirse el contenido del diccionario.\n"
   ]
  },
  {
   "cell_type": "code",
   "execution_count": 17,
   "metadata": {},
   "outputs": [
    {
     "name": "stdout",
     "output_type": "stream",
     "text": [
      "Opciones: \n",
      "1 Agregar \n",
      "2 Modificar \n",
      "3 Eliminar \n",
      "4 Salir\n"
     ]
    },
    {
     "ename": "NameError",
     "evalue": "name 'card' is not defined",
     "output_type": "error",
     "traceback": [
      "\u001b[0;31m---------------------------------------------------------------------------\u001b[0m",
      "\u001b[0;31mNameError\u001b[0m                                 Traceback (most recent call last)",
      "\u001b[1;32m/home/penguin/Escritorio/Penguin20/bootcamp_20/dia5.ipynb Celda 3\u001b[0m line \u001b[0;36m9\n\u001b[1;32m      <a href='vscode-notebook-cell:/home/penguin/Escritorio/Penguin20/bootcamp_20/dia5.ipynb#W2sZmlsZQ%3D%3D?line=6'>7</a>\u001b[0m     key \u001b[39m=\u001b[39m \u001b[39minput\u001b[39m(\u001b[39m'\u001b[39m\u001b[39mque datos quiere anhadir\u001b[39m\u001b[39m'\u001b[39m)\n\u001b[1;32m      <a href='vscode-notebook-cell:/home/penguin/Escritorio/Penguin20/bootcamp_20/dia5.ipynb#W2sZmlsZQ%3D%3D?line=7'>8</a>\u001b[0m     value \u001b[39m=\u001b[39m \u001b[39minput\u001b[39m(key \u001b[39m+\u001b[39m\u001b[39m'\u001b[39m\u001b[39m:\u001b[39m\u001b[39m'\u001b[39m)\n\u001b[0;32m----> <a href='vscode-notebook-cell:/home/penguin/Escritorio/Penguin20/bootcamp_20/dia5.ipynb#W2sZmlsZQ%3D%3D?line=8'>9</a>\u001b[0m     card[key] \u001b[39m=\u001b[39m value\n\u001b[1;32m     <a href='vscode-notebook-cell:/home/penguin/Escritorio/Penguin20/bootcamp_20/dia5.ipynb#W2sZmlsZQ%3D%3D?line=9'>10</a>\u001b[0m     \u001b[39mprint\u001b[39m(card)\n\u001b[1;32m     <a href='vscode-notebook-cell:/home/penguin/Escritorio/Penguin20/bootcamp_20/dia5.ipynb#W2sZmlsZQ%3D%3D?line=10'>11</a>\u001b[0m \u001b[39mbreak\u001b[39;00m\n",
      "\u001b[0;31mNameError\u001b[0m: name 'card' is not defined"
     ]
    }
   ],
   "source": [
    "dictio = {}\n",
    "preguntar = True\n",
    "while True:\n",
    "    print('Diccionary actual', dictio)\n",
    "    key = input('Agrega otro dato')\n",
    "    value = input('Agrega el valor de ese dato')\n",
    "    dictio[key] = value\n",
    "    print(dictio)\n",
    "    if True == input('Necesitas anhadir mas datos?') == 'si':\n",
    "        continue\n",
    "    else:\n",
    "        print('Listo')\n",
    "\n"
   ]
  },
  {
   "cell_type": "markdown",
   "metadata": {},
   "source": [
    "Challenge 2 🤺\n",
    "Crear una tarjeta personal. El usuario (mediante input) puede elegir:\n",
    "\n",
    "    Crear datos nuevos\n",
    "    Modificar datos\n",
    "    Eliminar datos"
   ]
  },
  {
   "cell_type": "code",
   "execution_count": 1,
   "metadata": {},
   "outputs": [
    {
     "name": "stdout",
     "output_type": "stream",
     "text": [
      "Opciones: \n",
      "1 Agregar \n",
      "2 Modificar \n",
      "3 Eliminar \n",
      "4 Salir\n"
     ]
    },
    {
     "ename": "ValueError",
     "evalue": "invalid literal for int() with base 10: ''",
     "output_type": "error",
     "traceback": [
      "\u001b[0;31m---------------------------------------------------------------------------\u001b[0m",
      "\u001b[0;31mValueError\u001b[0m                                Traceback (most recent call last)",
      "\u001b[1;32m/home/penguin/Escritorio/Penguin20/bootcamp_20/dia5.ipynb Celda 5\u001b[0m line \u001b[0;36m4\n\u001b[1;32m      <a href='vscode-notebook-cell:/home/penguin/Escritorio/Penguin20/bootcamp_20/dia5.ipynb#W4sZmlsZQ%3D%3D?line=1'>2</a>\u001b[0m \u001b[39mwhile\u001b[39;00m \u001b[39mTrue\u001b[39;00m:\n\u001b[1;32m      <a href='vscode-notebook-cell:/home/penguin/Escritorio/Penguin20/bootcamp_20/dia5.ipynb#W4sZmlsZQ%3D%3D?line=2'>3</a>\u001b[0m     \u001b[39mprint\u001b[39m(\u001b[39m'\u001b[39m\u001b[39mOpciones: \u001b[39m\u001b[39m\\n\u001b[39;00m\u001b[39m1 Agregar \u001b[39m\u001b[39m\\n\u001b[39;00m\u001b[39m2 Modificar \u001b[39m\u001b[39m\\n\u001b[39;00m\u001b[39m3 Eliminar \u001b[39m\u001b[39m\\n\u001b[39;00m\u001b[39m4 Salir\u001b[39m\u001b[39m'\u001b[39m)\n\u001b[0;32m----> <a href='vscode-notebook-cell:/home/penguin/Escritorio/Penguin20/bootcamp_20/dia5.ipynb#W4sZmlsZQ%3D%3D?line=3'>4</a>\u001b[0m     menu \u001b[39m=\u001b[39m \u001b[39mint\u001b[39;49m(\u001b[39minput\u001b[39;49m(\u001b[39m'\u001b[39;49m\u001b[39mSeleccione\u001b[39;49m\u001b[39m'\u001b[39;49m))\n\u001b[1;32m      <a href='vscode-notebook-cell:/home/penguin/Escritorio/Penguin20/bootcamp_20/dia5.ipynb#W4sZmlsZQ%3D%3D?line=4'>5</a>\u001b[0m     \u001b[39mif\u001b[39;00m menu \u001b[39m==\u001b[39m \u001b[39m1\u001b[39m:\n\u001b[1;32m      <a href='vscode-notebook-cell:/home/penguin/Escritorio/Penguin20/bootcamp_20/dia5.ipynb#W4sZmlsZQ%3D%3D?line=5'>6</a>\u001b[0m         key \u001b[39m=\u001b[39m \u001b[39minput\u001b[39m(\u001b[39m'\u001b[39m\u001b[39mque datos quiere anhadir\u001b[39m\u001b[39m'\u001b[39m)\n",
      "\u001b[0;31mValueError\u001b[0m: invalid literal for int() with base 10: ''"
     ]
    }
   ],
   "source": [
    "card = {}\n",
    "while True:\n",
    "    print('Opciones: \\n1 Agregar \\n2 Modificar \\n3 Eliminar \\n4 Salir')\n",
    "    menu = int(input('Seleccione'))\n",
    "    if menu == 1:\n",
    "        key = input('que datos quiere anhadir')\n",
    "        value = input(key +':')\n",
    "        card[key] = value\n",
    "        print(card)\n",
    "\n",
    "    elif menu == 2:\n",
    "        key = input('que datos desea modificar')\n",
    "        value = input(key + ':')\n",
    "        card[key] = value\n",
    "        print(card)\n",
    "\n",
    "    elif menu == 3:\n",
    "        key = input('que dato desea eliminar')\n",
    "        del card[key]\n",
    "        print(card)\n",
    "\n",
    "    \n",
    "    elif menu == 4:\n",
    "        print('Hasta pronto')\n",
    "        break\n",
    "    else:\n",
    "        print('Opcion ingresada no valida')\n",
    "        menu = int(input('Seleccione una opcion '))"
   ]
  },
  {
   "cell_type": "markdown",
   "metadata": {},
   "source": [
    "Clases y atributos"
   ]
  },
  {
   "cell_type": "code",
   "execution_count": 2,
   "metadata": {},
   "outputs": [
    {
     "name": "stdout",
     "output_type": "stream",
     "text": [
      "50\n"
     ]
    }
   ],
   "source": [
    "class Humano:\n",
    "    ojos = 2\n",
    "    pies = 2\n",
    "\n",
    "    def __init__(self, edad, altura):\n",
    "        self.edad = edad\n",
    "        self.altura = altura\n",
    "\n",
    "gustavo = Humano(50, 1.73)\n",
    "print(gustavo.edad)\n",
    "print(gustavo.altura)"
   ]
  },
  {
   "cell_type": "markdown",
   "metadata": {},
   "source": [
    "Challenge 🤺\n",
    "Crear una clase animales que tenga atributo de clase y de instancia.\n",
    "\n",
    "    Atributos de clase: especie.\n",
    "    Atributos de instancia: nombre & color\n",
    "\n",
    ".\n",
    "Luego, crear nuevos objetos a partir de las nuevas class. Imprimir el nombre y el color de los animales en una frase.\n",
    "Ejemplo: \"Me llamo {nombre} y soy un ave de color {color}\"."
   ]
  },
  {
   "cell_type": "code",
   "execution_count": 25,
   "metadata": {},
   "outputs": [
    {
     "name": "stdout",
     "output_type": "stream",
     "text": [
      "Me llamo Polly y soy un ave de color Verde\n",
      "Polly\n",
      "Verde\n"
     ]
    },
    {
     "ename": "NameError",
     "evalue": "name 'dormir' is not defined",
     "output_type": "error",
     "traceback": [
      "\u001b[0;31m---------------------------------------------------------------------------\u001b[0m",
      "\u001b[0;31mNameError\u001b[0m                                 Traceback (most recent call last)",
      "\u001b[1;32m/home/penguin/Escritorio/Penguin20/bootcamp_20/dia5.ipynb Celda 9\u001b[0m line \u001b[0;36m2\n\u001b[1;32m     <a href='vscode-notebook-cell:/home/penguin/Escritorio/Penguin20/bootcamp_20/dia5.ipynb#X12sZmlsZQ%3D%3D?line=20'>21</a>\u001b[0m \u001b[39mprint\u001b[39m(Cotorra\u001b[39m.\u001b[39mnombre)\n\u001b[1;32m     <a href='vscode-notebook-cell:/home/penguin/Escritorio/Penguin20/bootcamp_20/dia5.ipynb#X12sZmlsZQ%3D%3D?line=21'>22</a>\u001b[0m \u001b[39mprint\u001b[39m(Cotorra\u001b[39m.\u001b[39mcolor)\n\u001b[0;32m---> <a href='vscode-notebook-cell:/home/penguin/Escritorio/Penguin20/bootcamp_20/dia5.ipynb#X12sZmlsZQ%3D%3D?line=22'>23</a>\u001b[0m \u001b[39mprint\u001b[39m(dormir\u001b[39m.\u001b[39mCotorra)\n",
      "\u001b[0;31mNameError\u001b[0m: name 'dormir' is not defined"
     ]
    }
   ],
   "source": [
    "class Animales:\n",
    "    especie = \"Voladores\"\n",
    "\n",
    "    def __init__(self, nombre, color):\n",
    "        self.nombre = nombre\n",
    "        self.color = color\n",
    "\n",
    "    def dormir(self):\n",
    "        print('zzz')\n",
    "Cotorra = Animales('Polly', 'Verde')\n",
    "print(f'Me llamo {Cotorra.nombre} y soy un ave de color {Cotorra.color}')\n",
    "\n",
    "class Cotorrita(Animales):\n",
    "        def comer(self):\n",
    "            print('nham, nham')\n",
    "        def dormir(self):\n",
    "            print('zzzz')\n",
    "        def cantar(self):\n",
    "            print('chirp, chirp')\n",
    "\n",
    "print(Cotorra.nombre)\n",
    "print(Cotorra.color)\n",
    "print(dormir.Cotorra)"
   ]
  },
  {
   "cell_type": "code",
   "execution_count": 24,
   "metadata": {},
   "outputs": [
    {
     "name": "stdout",
     "output_type": "stream",
     "text": [
      "Me llamo Polly y soy un ave de color Verde\n"
     ]
    }
   ],
   "source": [
    "class Animal:\n",
    "    especie = 'Volador'\n",
    "\n",
    "    def __init__(self, nombre, color):\n",
    "        self.nombre = nombre\n",
    "        self.color = color\n",
    "\n",
    "Cotorra = Animal('Polly', 'Verde')\n",
    "print(f'Me llamo {Cotorra.nombre} y soy un ave de color {Cotorra.color}')"
   ]
  },
  {
   "cell_type": "code",
   "execution_count": 27,
   "metadata": {},
   "outputs": [
    {
     "name": "stdout",
     "output_type": "stream",
     "text": [
      "Estoy volando, 4 km.\n",
      "Puedo alzar un  Piedra de 20 kilogramos.\n"
     ]
    }
   ],
   "source": [
    "class Superheroe:\n",
    "    especie = \"Super humano\" # Atributo de clase\n",
    "\n",
    "    def __init__(self, nombre): # Atributo de instancia\n",
    "        self.nombre = nombre\n",
    "\n",
    "    def volar(self, km): # Metodos\n",
    "        print(f'Estoy volando, {km} km.')\n",
    "\n",
    "    def alzar_objetos(self, objeto, kg):\n",
    "        print(f'Puedo alzar un  {objeto} de {kg} kilogramos.')\n",
    "\n",
    "hulk = Superheroe('Gustavo')\n",
    "hulk.volar(4)\n",
    "hulk.alzar_objetos('Piedra', 20)"
   ]
  },
  {
   "cell_type": "markdown",
   "metadata": {},
   "source": [
    "Challenge 🤺\n",
    "Crear dos métodos para nuestro animal y ejecutar, debe ser algo específico de ese animal.\n",
    "\n",
    "Ejemplo: \"Cuando hablo, digo X\".\n",
    "Ejemplo: \"Cuando me muevo, hago X\"."
   ]
  },
  {
   "cell_type": "code",
   "execution_count": 31,
   "metadata": {},
   "outputs": [
    {
     "name": "stdout",
     "output_type": "stream",
     "text": [
      "Cuendo me muevo, me arrastro 4 km por dia.\n",
      "Puedo estrangular un@ persona con una fuerza de 900 kilogramos.\n"
     ]
    }
   ],
   "source": [
    "class Animal:\n",
    "    especie = \"Reptil\" # Atributo de clase\n",
    "\n",
    "    def __init__(self, nombre): # Atributo de instancia\n",
    "        self.nombre = nombre\n",
    "\n",
    "    def mover(self, km): # Metodos\n",
    "        print(f'Cuendo me muevo, me arrastro {km} km por dia.')\n",
    "\n",
    "    def estrangular(self, objeto):\n",
    "        print(f'Puedo estrangular un@ {objeto} con una fuerza de 900 kilogramos.')\n",
    "anaconda = Animal('Anaconda')\n",
    "anaconda.mover(4)\n",
    "anaconda.estrangular('persona')"
   ]
  },
  {
   "cell_type": "code",
   "execution_count": 33,
   "metadata": {},
   "outputs": [],
   "source": [
    "class Reptil: #Atributo de clase\n",
    "\n",
    "    tipo = 'Reptil'\n",
    "\n",
    "    def __init__(self, color, sonido): #Atributo de instancia\n",
    "        self.color = color\n",
    "        self.sonido = sonido\n",
    "\n",
    "    def hablar(self): #Metodo\n",
    "        print('HOla')\n",
    "\n",
    "class serpiente(Reptil): #Clase Hija\n",
    "    veneno: 10\n",
    "\n",
    "    def arrastrarse(self):\n",
    "        print('Me estoy arrastrando')\n",
    "\n",
    "class dragon(Reptil):\n",
    "    fuego: 50\n",
    "\n",
    "    def lanza_fuego(self):\n",
    "        print('Lanzo fuego')"
   ]
  },
  {
   "cell_type": "markdown",
   "metadata": {},
   "source": [
    "Challenge 🤺\n",
    "Definir una clase madre que herede a sus clases hijas dos atributos de instancia. Mostrar ambos atributos en pantalla desde los objetos de las clases hijas.\n",
    "\n",
    "Observación: Editar las clases hijas para que no se inicialicen."
   ]
  },
  {
   "cell_type": "code",
   "execution_count": 40,
   "metadata": {},
   "outputs": [
    {
     "ename": "TypeError",
     "evalue": "Aqua.__init__() missing 1 required positional argument: 'sonido'",
     "output_type": "error",
     "traceback": [
      "\u001b[0;31m---------------------------------------------------------------------------\u001b[0m",
      "\u001b[0;31mTypeError\u001b[0m                                 Traceback (most recent call last)",
      "\u001b[1;32m/home/penguin/Escritorio/Penguin20/bootcamp_20/dia5.ipynb Celda 16\u001b[0m line \u001b[0;36m2\n\u001b[1;32m     <a href='vscode-notebook-cell:/home/penguin/Escritorio/Penguin20/bootcamp_20/dia5.ipynb#X23sZmlsZQ%3D%3D?line=20'>21</a>\u001b[0m     \u001b[39mdef\u001b[39;00m \u001b[39mnadar\u001b[39m(\u001b[39mself\u001b[39m):\n\u001b[1;32m     <a href='vscode-notebook-cell:/home/penguin/Escritorio/Penguin20/bootcamp_20/dia5.ipynb#X23sZmlsZQ%3D%3D?line=21'>22</a>\u001b[0m         \u001b[39mprint\u001b[39m(\u001b[39m'\u001b[39m\u001b[39mPuedo flotar\u001b[39m\u001b[39m'\u001b[39m)\n\u001b[0;32m---> <a href='vscode-notebook-cell:/home/penguin/Escritorio/Penguin20/bootcamp_20/dia5.ipynb#X23sZmlsZQ%3D%3D?line=23'>24</a>\u001b[0m Ricky \u001b[39m=\u001b[39m Aqua(squirtle)\n\u001b[1;32m     <a href='vscode-notebook-cell:/home/penguin/Escritorio/Penguin20/bootcamp_20/dia5.ipynb#X23sZmlsZQ%3D%3D?line=24'>25</a>\u001b[0m Ricky\u001b[39m.\u001b[39mlanza_chorro()\n",
      "\u001b[0;31mTypeError\u001b[0m: Aqua.__init__() missing 1 required positional argument: 'sonido'"
     ]
    }
   ],
   "source": [
    "class Aqua: #Atributo de clase\n",
    "\n",
    "    tipo = 'Acuatico'\n",
    "\n",
    "    def __init__(self, color, sonido): #Atributo de instancia\n",
    "        self.color = color\n",
    "        self.sonido = sonido\n",
    "\n",
    "    def hablar(self): #Metodo\n",
    "        print('Hola')\n",
    "\n",
    "class squirtle(Aqua): #Clase Hija\n",
    "    torrent: 40\n",
    "\n",
    "    def lanza_chorro(self):\n",
    "        print('Lanzo chorro')\n",
    "\n",
    "class psyduck(Aqua):\n",
    "    agua: 10\n",
    "\n",
    "    def nadar(self):\n",
    "        print('Puedo flotar')\n",
    "\n",
    "Ricky = Aqua(squirtle)\n",
    "Ricky.lanza_chorro()"
   ]
  }
 ],
 "metadata": {
  "kernelspec": {
   "display_name": "Python 3",
   "language": "python",
   "name": "python3"
  },
  "language_info": {
   "codemirror_mode": {
    "name": "ipython",
    "version": 3
   },
   "file_extension": ".py",
   "mimetype": "text/x-python",
   "name": "python",
   "nbconvert_exporter": "python",
   "pygments_lexer": "ipython3",
   "version": "3.11.6"
  }
 },
 "nbformat": 4,
 "nbformat_minor": 2
}
