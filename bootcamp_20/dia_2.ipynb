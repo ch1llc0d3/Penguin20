{
 "cells": [
  {
   "cell_type": "code",
   "execution_count": 9,
   "metadata": {},
   "outputs": [
    {
     "name": "stdout",
     "output_type": "stream",
     "text": [
      "25.280898876404493\n"
     ]
    }
   ],
   "source": [
    "def calcular_imc(peso, altura):\n",
    "    imc = peso/(altura*2)\n",
    "    print(imc)\n",
    "\n",
    "calcular_imc(90, 1.78)\n"
   ]
  },
  {
   "cell_type": "code",
   "execution_count": 9,
   "metadata": {},
   "outputs": [
    {
     "name": "stdout",
     "output_type": "stream",
     "text": [
      "Este producto es de valor: caro y de color rojo\n"
     ]
    }
   ],
   "source": [
    "def producto():\n",
    "    producto = (f\"Este producto es de valor: {precio} y de color {color}\")\n",
    "    print(producto)\n",
    "\n",
    "precio = (input(\"Inserte el valor del producto\"))\n",
    "color = (input(\"Inserte el color del producto\"))\n",
    "producto()\n"
   ]
  },
  {
   "cell_type": "code",
   "execution_count": 12,
   "metadata": {},
   "outputs": [
    {
     "data": {
      "text/plain": [
       "False"
      ]
     },
     "execution_count": 12,
     "metadata": {},
     "output_type": "execute_result"
    }
   ],
   "source": [
    "5 == \"5\"\n",
    "f'4' == '5'"
   ]
  },
  {
   "cell_type": "code",
   "execution_count": null,
   "metadata": {},
   "outputs": [],
   "source": [
    "def chequear_edad(edad_laboral, trabajo):\n",
    "    if edad_laboral < 18:\n",
    "        print()"
   ]
  },
  {
   "cell_type": "code",
   "execution_count": 3,
   "metadata": {},
   "outputs": [
    {
     "name": "stdout",
     "output_type": "stream",
     "text": [
      "Ñamano mba'e!\n"
     ]
    }
   ],
   "source": [
    "#Escribir un programa en el que se pregunte al usuario por una temperatura (en grados Celsius), \n",
    "#imprima la temperatura escrita, y luego clasificar la temperatura ingresada en los siguientes niveles:\n",
    "\n",
    "#Entre -10 y 18 grados, que imprima \"Fresquete\".\n",
    "#Entre 19 y 30 grados, que imprima \"Calor'i\".\n",
    "#Entre 31 y 45 grados, que imprima \"Hakuuuuuu\".\n",
    "#Para todo lo demás, imprimir \"Ñamano mba'e!\".\n",
    "temperatura = int(input(\"que temperatura hay?\"))\n",
    "\n",
    "if temperatura >= -10 and temperatura <= 18:\n",
    "    print(\"Fresquete\")\n",
    "elif temperatura >= 19 and temperatura <= 30:\n",
    "    print(\"Calor'i\")\n",
    "elif temperatura >= 31 and temperatura <= 45:\n",
    "    print(\"Hakuuuuuu\")\n",
    "else:\n",
    "    print(\"Ñamano mba'e!\")\n",
    "\n"
   ]
  },
  {
   "cell_type": "code",
   "execution_count": 6,
   "metadata": {},
   "outputs": [
    {
     "name": "stdout",
     "output_type": "stream",
     "text": [
      "amanota :c\n"
     ]
    }
   ],
   "source": [
    "temperatura_del_ambiente = int(input('ingrese la temperatura'))\n",
    "\n",
    "if -10 <= temperatura_del_ambiente <= 18:\n",
    "    #siempre poner los numeros de la variable de menor a mayor y utilizar <=, >= para incluir a los numeros que condicionan la accion \n",
    "    print('fresquetee')\n",
    "\n",
    "elif 19 <= temperatura_del_ambiente <= 30:\n",
    "    print('calorcito') \n",
    "\n",
    "elif 31 <= temperatura_del_ambiente <= 45:\n",
    "    print('haaaakuuuuu')\n",
    "\n",
    "else:\n",
    "    print('amanota :c')"
   ]
  },
  {
   "cell_type": "markdown",
   "metadata": {},
   "source": [
    "Escribir un programa que almacene una contraseña en una variable, y pregunte al usuario por la contraseña hasta que introduzca la contraseña correcta.\n",
    "\n",
    "Cuando el usuario ingrese la contrasena correcta, imprimir un mensaje secreto."
   ]
  },
  {
   "cell_type": "code",
   "execution_count": 22,
   "metadata": {},
   "outputs": [],
   "source": [
    "password= input('Cual es tu contrasenha? ')\n",
    "correctPassword= 'Penguin123'\n",
    "\n",
    "while password != correctPassword:\n",
    "    password = input('Escribe de nuevo ')\n",
    "\n",
    "print(\"Listo\")"
   ]
  },
  {
   "cell_type": "code",
   "execution_count": 31,
   "metadata": {},
   "outputs": [],
   "source": [
    "password= input('Cual es tu contrasenha? ')\n",
    "correctPassword = 'Penguin890'\n",
    "\n",
    "while password == (correctPassword):\n",
    "    print('Listo')\n",
    "else:\n",
    "    password = input('Intenta de nuevo')"
   ]
  },
  {
   "cell_type": "markdown",
   "metadata": {},
   "source": [
    "Crear una lista de 5 elementos. Luego, seguir los siguientes pasos.\n",
    "\n",
    "    Agregar un elemento al final de la lista.\n",
    "\n",
    "\n",
    "    Modificar el segundo elemento.\n",
    "\n",
    "\n",
    "    Eliminar el tercer elemento.\n",
    "    "
   ]
  },
  {
   "cell_type": "code",
   "execution_count": 47,
   "metadata": {},
   "outputs": [
    {
     "name": "stdout",
     "output_type": "stream",
     "text": [
      "['Alumno01', 'Alumno02', 'Alumno03', 'Alumno04', 'Alumno05']\n",
      "['Alumno01', 'Alumno02', 'Alumno03', 'Alumno04', 'Alumno05', 'Alumno06']\n",
      "['Alumno01', 'Alumnito02', 'Alumno03', 'Alumno04', 'Alumno05', 'Alumno06']\n",
      "['Alumno01', 'Alumnito02', 'Alumno03', 'Alumno05', 'Alumno06']\n"
     ]
    }
   ],
   "source": [
    "Ramon = ['Alumno01', 'Alumno02', 'Alumno03', 'Alumno04', 'Alumno05']\n",
    "\n",
    "print(Ramon)\n",
    "\n",
    "Ramon.append('Alumno06')\n",
    "\n",
    "print(Ramon)\n",
    "\n",
    "Ramon[1] = 'Alumnito02'\n",
    "\n",
    "print(Ramon)\n",
    "\n",
    "#Ramon.remove('Alumno03') Elimina por valor \n",
    "Ramon.pop(3) #Elimina por posicion\n",
    "\n",
    "print(Ramon)"
   ]
  },
  {
   "cell_type": "code",
   "execution_count": 48,
   "metadata": {},
   "outputs": [
    {
     "name": "stdout",
     "output_type": "stream",
     "text": [
      "Lunes\n",
      "Martes\n",
      "Miercoles\n",
      "Juevez\n",
      "Viernes\n"
     ]
    }
   ],
   "source": [
    "dias_de_la_semana =['Lunes', 'Martes', 'Miercoles', 'Juevez', 'Viernes']\n",
    "\n",
    "for x in dias_de_la_semana:\n",
    "    print(x)"
   ]
  },
  {
   "cell_type": "markdown",
   "metadata": {},
   "source": [
    "Escribir un programa que tiene en un rango de 10 veces.\n",
    "Por cada iteracion multiplicar el iterador por dos e imprimir el resultado."
   ]
  },
  {
   "cell_type": "code",
   "execution_count": 4,
   "metadata": {},
   "outputs": [
    {
     "name": "stdout",
     "output_type": "stream",
     "text": [
      "0\n",
      "2\n",
      "4\n",
      "6\n",
      "8\n",
      "10\n",
      "12\n",
      "14\n",
      "16\n",
      "18\n"
     ]
    }
   ],
   "source": [
    "for x in range(10):\n",
    "    print(x*2)"
   ]
  },
  {
   "cell_type": "markdown",
   "metadata": {},
   "source": [
    "Recorrer los elementos de una lista de marcas e imprimir cada marca solamente si tiene 6 letras o más."
   ]
  },
  {
   "cell_type": "code",
   "execution_count": 26,
   "metadata": {},
   "outputs": [
    {
     "name": "stdout",
     "output_type": "stream",
     "text": [
      "Toyota\n",
      "Hyundai\n",
      "Mercedes\n"
     ]
    }
   ],
   "source": [
    "\n",
    "marcas_auto = ['Toyota', 'Hyundai', 'Audi', 'Mercedes']\n",
    "\n",
    "for i in (marcas_auto):\n",
    "    if len(i) >= 6:\n",
    "        print(i)"
   ]
  },
  {
   "cell_type": "markdown",
   "metadata": {},
   "source": [
    "Solicitar al usuario que ingrese una frase.\n",
    "\n",
    "Imprimir un mensaje cada vez que se encuentre una letra \"o\"."
   ]
  },
  {
   "cell_type": "code",
   "execution_count": 2,
   "metadata": {},
   "outputs": [
    {
     "name": "stdout",
     "output_type": "stream",
     "text": [
      "Encontramos la letra a, 2 veces\n"
     ]
    }
   ],
   "source": [
    "frase = input('Inserta una frase')\n",
    "letra = input('Inserta una letra')[:1]\n",
    "suma = 0\n",
    "\n",
    "for i in frase:\n",
    "    if i == letra:\n",
    "        suma = suma + 1\n",
    "\n",
    "print(f'Encontramos la letra {letra}, {suma} veces')"
   ]
  }
 ],
 "metadata": {
  "kernelspec": {
   "display_name": "Python 3",
   "language": "python",
   "name": "python3"
  },
  "language_info": {
   "codemirror_mode": {
    "name": "ipython",
    "version": 3
   },
   "file_extension": ".py",
   "mimetype": "text/x-python",
   "name": "python",
   "nbconvert_exporter": "python",
   "pygments_lexer": "ipython3",
   "version": "3.11.6"
  }
 },
 "nbformat": 4,
 "nbformat_minor": 2
}
