{
 "cells": [
  {
   "cell_type": "markdown",
   "metadata": {},
   "source": [
    "Crear un funcion que imprima la variable palabra."
   ]
  },
  {
   "cell_type": "code",
   "execution_count": 7,
   "metadata": {},
   "outputs": [
    {
     "name": "stdout",
     "output_type": "stream",
     "text": [
      "palabra\n"
     ]
    }
   ],
   "source": [
    "\n",
    "variable = 'palabra'\n",
    "def imprime():\n",
    "    print(variable)\n",
    "imprime()"
   ]
  },
  {
   "cell_type": "markdown",
   "metadata": {},
   "source": [
    "Crear una función que reciba dos letras (parámetros) y que verifique si son iguales:\n",
    "\n",
    "    Si son iguales, imprimir \"Las letras son iguales\".\n",
    "\n",
    "\n",
    "    De lo contrario, imprimir \"Las letras son diferentes\"."
   ]
  },
  {
   "cell_type": "code",
   "execution_count": 13,
   "metadata": {},
   "outputs": [
    {
     "name": "stdout",
     "output_type": "stream",
     "text": [
      "Las letras son diferentes\n"
     ]
    }
   ],
   "source": [
    "\n",
    "def funcion(palabra1, palabra2):\n",
    "    palabra1 = input('ingresa una palabra')\n",
    "    palabra2 = input('ingresa otra palabra')\n",
    "    \n",
    "    if palabra1 == palabra2:\n",
    "        print('Las letras son iguales')\n",
    "    else:\n",
    "        print('Las letras son diferentes')\n",
    "\n",
    "funcion('hola', 'hola')\n"
   ]
  },
  {
   "cell_type": "code",
   "execution_count": 22,
   "metadata": {},
   "outputs": [
    {
     "name": "stdout",
     "output_type": "stream",
     "text": [
      "Las letras a y b son diferentes\n",
      "Las letras o y s son diferentes\n"
     ]
    }
   ],
   "source": [
    "def letras(letra1, letra2):\n",
    "    if letra1 == letra2:\n",
    "        print(f'Las letras {letra1} y {letra2} son iguales')\n",
    "    else:\n",
    "        print(f'Las letras {letra1} y {letra2} son diferentes')\n",
    "\n",
    "letra1 = input('escribe una letra')\n",
    "letra2 = input('escribe otra letra')\n",
    "\n",
    "letras('a', 'b')\n",
    "letras(letra1, letra2)"
   ]
  },
  {
   "cell_type": "code",
   "execution_count": 28,
   "metadata": {},
   "outputs": [
    {
     "name": "stdout",
     "output_type": "stream",
     "text": [
      "Las letras s y d son diferentes\n"
     ]
    }
   ],
   "source": [
    "def compara_letras(letra1 = input('escribe una letra')[:1], letra2 = input('escribe otra')[:1]):\n",
    "    if letra1 == letra2:\n",
    "        print(f'Las letras {letra1} y {letra2} son iguales')\n",
    "    else:\n",
    "        print(f'Las letras {letra1} y {letra2} son diferentes')\n",
    "\n",
    "compara_letras()"
   ]
  },
  {
   "cell_type": "markdown",
   "metadata": {},
   "source": [
    "Crear una función que reciba dos parámetros (una palabra y un número), y que retorne True si el número es igual a la cantidad de letras de la palabra. En caso contrario, que retorne False.\n",
    "\n",
    "Pista: cantidad de letras de una palabra en python"
   ]
  },
  {
   "cell_type": "code",
   "execution_count": null,
   "metadata": {},
   "outputs": [],
   "source": []
  },
  {
   "cell_type": "code",
   "execution_count": 52,
   "metadata": {},
   "outputs": [
    {
     "data": {
      "text/plain": [
       "True"
      ]
     },
     "execution_count": 52,
     "metadata": {},
     "output_type": "execute_result"
    }
   ],
   "source": [
    "def compara(palabra, numero):\n",
    "\n",
    "        x = len(palabra)\n",
    "        y = numero\n",
    "        A = x == y\n",
    "        if A:\n",
    "            return True\n",
    "        else:\n",
    "            return False\n",
    "                \n",
    "palabra = input('escribe una palabra')\n",
    "numero = float(input('escribe un numero')[:1])\n",
    "compara(palabra, numero)"
   ]
  },
  {
   "cell_type": "code",
   "execution_count": 49,
   "metadata": {},
   "outputs": [
    {
     "data": {
      "text/plain": [
       "False"
      ]
     },
     "execution_count": 49,
     "metadata": {},
     "output_type": "execute_result"
    }
   ],
   "source": [
    "def comparacion(palabra, numero):\n",
    "    if len(palabra) == numero:\n",
    "        return True\n",
    "    else:\n",
    "        return False\n",
    "    \n",
    "comparacion('sonidos', 8)"
   ]
  },
  {
   "cell_type": "markdown",
   "metadata": {},
   "source": [
    "Crear función que revise si una palabra contiene una letra. \n",
    "En caso de que la contenga, retornar la letra entre corchetes []. \n",
    "De lo contrario, retornar solo la letra."
   ]
  },
  {
   "cell_type": "code",
   "execution_count": 76,
   "metadata": {},
   "outputs": [
    {
     "data": {
      "text/plain": [
       "['h']"
      ]
     },
     "execution_count": 76,
     "metadata": {},
     "output_type": "execute_result"
    }
   ],
   "source": [
    "def revisar():\n",
    "    if letra in palabra:\n",
    "        #return \"[\" + letra + \"]\"\n",
    "        return f\"[{letra}]\"\n",
    "    else:\n",
    "        return f\"{letra}\"\n",
    "        \n",
    "letra = input('ingrese una letra')[:1]\n",
    "palabra = input('Ingrese la palabra')\n",
    "\n",
    "revisar()"
   ]
  },
  {
   "cell_type": "markdown",
   "metadata": {},
   "source": [
    "Pedir al usuario que ingrese 1 palabra, luego convertir esa palabra a una lista con sus caracteres con list(). Agregar esa lista de caracteres a una lista llamada palabras_ingresadas. Repetir el proceso 3 veces. Cada vez que se agregue una lista de caracteres, imprimir la lista palabras_ingresadas.\n",
    "\n",
    "\n",
    "Ejemplo del resultado esperado:\n",
    "\n",
    "[['c', 'i', 'e', 'l', 'o']]\n",
    "\n",
    " # Al ingresar la primera palabra\n",
    "\n",
    "[['c', 'i', 'e', 'l', 'o'], ['c', 'a', 'l', 'o', 'r']]\n",
    "\n",
    " # Al ingresar la segunda palabra\n",
    "\n",
    "[['c', 'i', 'e', 'l', 'o'], ['c', 'a', 'l', 'o', 'r'], ['n', 'u', 'b', 'e', 's']]\n",
    "\n",
    " # Al ingresar la tercera palabra"
   ]
  },
  {
   "cell_type": "code",
   "execution_count": 96,
   "metadata": {},
   "outputs": [
    {
     "name": "stdout",
     "output_type": "stream",
     "text": [
      "[[['c', 'i', 'e', 'l', 'o']]]\n",
      "[[['c', 'i', 'e', 'l', 'o'], ['n', 'u', 'b', 'e', 's']]]\n",
      "[[['c', 'i', 'e', 'l', 'o'], ['n', 'u', 'b', 'e', 's'], ['c', 'a', 'l', 'o', 'r']]]\n"
     ]
    }
   ],
   "source": [
    "\n",
    "lista_de_palabras = []\n",
    "\n",
    "palabra1 = input('ingresa una palabra')\n",
    "lista1 = list(palabra1)\n",
    "lista_de_palabras.append(lista1)\n",
    "print([lista_de_palabras])\n",
    "\n",
    "palabra2 = input('ingresa una palabra')\n",
    "lista2 = list(palabra2)\n",
    "lista_de_palabras.append(lista2)\n",
    "print([lista_de_palabras])\n",
    "\n",
    "palabra3 = input('ingresa una palabra')\n",
    "lista3 = list(palabra3)\n",
    "lista_de_palabras.append(lista3)\n",
    "print([lista_de_palabras])\n",
    "\n",
    "\n",
    "\n"
   ]
  },
  {
   "cell_type": "code",
   "execution_count": 90,
   "metadata": {},
   "outputs": [
    {
     "name": "stdout",
     "output_type": "stream",
     "text": [
      "[['h', 'o', 'l', 'a']]\n",
      "['h', 'o', 'l', 'a']\n",
      "['h', 'o', 'l', 'a']\n",
      "['h', 'o', 'l', 'a']\n"
     ]
    }
   ],
   "source": [
    "\n",
    "\n",
    "palabra1 = input('ingresa una palabra')\n",
    "lista1 = list(palabra1)\n",
    "print([lista1])\n",
    "\n",
    "for i in range(3):\n",
    "    print(lista1)\n",
    "\n",
    "\n"
   ]
  },
  {
   "cell_type": "markdown",
   "metadata": {},
   "source": [
    "Solucion con for"
   ]
  },
  {
   "cell_type": "code",
   "execution_count": 97,
   "metadata": {},
   "outputs": [
    {
     "name": "stdout",
     "output_type": "stream",
     "text": [
      "[[['h', 'o', 'l', 'a']]]\n",
      "[[['h', 'o', 'l', 'a'], ['c', 'h', 'a', 'u']]]\n",
      "[[['h', 'o', 'l', 'a'], ['c', 'h', 'a', 'u'], ['c', 'o', 'm', 'o']]]\n"
     ]
    }
   ],
   "source": [
    "lista_de_palabras = []\n",
    "\n",
    "for i in range(3):\n",
    "    palabra1 = input('ingresa una palabra')\n",
    "    lista1 = list(palabra1)\n",
    "    lista_de_palabras.append(lista1)\n",
    "    print([lista_de_palabras])\n"
   ]
  },
  {
   "cell_type": "markdown",
   "metadata": {},
   "source": [
    "Solucion con while"
   ]
  },
  {
   "cell_type": "code",
   "execution_count": 113,
   "metadata": {},
   "outputs": [
    {
     "name": "stdout",
     "output_type": "stream",
     "text": [
      "[[['c', 'i', 'e', 'l', 'o']]]\n",
      "[[['c', 'i', 'e', 'l', 'o'], ['c', 'a', 'l', 'o', 'r']]]\n",
      "[[['c', 'i', 'e', 'l', 'o'], ['c', 'a', 'l', 'o', 'r'], ['n', 'u', 'b', 'e', 's']]]\n",
      "[[['c', 'i', 'e', 'l', 'o'], ['c', 'a', 'l', 'o', 'r'], ['n', 'u', 'b', 'e', 's']]]\n"
     ]
    }
   ],
   "source": [
    "lista_de_palabras = []\n",
    "\n",
    "\n",
    "while True:\n",
    "    if len(lista_de_palabras) == 3:\n",
    "        print([lista_de_palabras])\n",
    "        break\n",
    "    else:\n",
    "        palabra1 = input('ingresa una palabra')\n",
    "        lista1 = list(palabra1)\n",
    "        lista_de_palabras.append(lista1)\n",
    "        print([lista_de_palabras])\n",
    "\n",
    "\n",
    "\n"
   ]
  },
  {
   "cell_type": "markdown",
   "metadata": {},
   "source": [
    "Dada la lista de ejemplo: \n",
    "\n",
    "lista = [['h', 'o', 'l', 'i', 's'], ['h', 'e', 'l', 'l', 'o'], ['h', 'a', 'l', 'l', 'o']]\n",
    "\n",
    "Crear una función que imprima una grilla (lista de listas), una línea por cada lista dentro de la lista principal.\n",
    "\n",
    "Ejemplo del resultado esperado:\n",
    "\n",
    "['h', 'o', 'l', 'i', 's']\n",
    "['h', 'e', 'l', 'l', 'o']\n",
    "['h', 'a', 'l', 'l', 'o']\n",
    "\n",
    "# Python program to print list\n",
    "a = [1, 2, 3, 4, 5]\n",
    "\n",
    "# printing the list using loop\n",
    "for x in range(len(a)):\n",
    "\tprint a[x],\n"
   ]
  },
  {
   "cell_type": "code",
   "execution_count": 5,
   "metadata": {},
   "outputs": [
    {
     "name": "stdout",
     "output_type": "stream",
     "text": [
      "['h', 'o', 'l', 'i', 's']\n",
      "['h', 'e', 'l', 'l', 'o']\n",
      "['h', 'a', 'l', 'l', 'o']\n",
      "3\n"
     ]
    }
   ],
   "source": [
    "lista = [['h', 'o', 'l', 'i', 's'], ['h', 'e', 'l', 'l', 'o'], ['h', 'a', 'l', 'l', 'o']]\n",
    "\n",
    "def imprime():\n",
    "    for x in range(len(lista)):\n",
    "        print(lista[x])\n",
    "\n",
    "imprime()\n"
   ]
  },
  {
   "cell_type": "code",
   "execution_count": 6,
   "metadata": {},
   "outputs": [
    {
     "name": "stdout",
     "output_type": "stream",
     "text": [
      "['h', 'o', 'l', 'i', 's']\n",
      "['h', 'e', 'l', 'l', 'o']\n",
      "['h', 'a', 'l', 'l', 'o']\n"
     ]
    }
   ],
   "source": [
    "\n",
    "def imprime():\n",
    "    lista = [['h', 'o', 'l', 'i', 's'], \n",
    "             ['h', 'e', 'l', 'l', 'o'], \n",
    "             ['h', 'a', 'l', 'l', 'o']]\n",
    "    for x in range(len(lista)):\n",
    "        print(lista[x])\n",
    "\n",
    "imprime()"
   ]
  },
  {
   "cell_type": "code",
   "execution_count": 7,
   "metadata": {},
   "outputs": [
    {
     "name": "stdout",
     "output_type": "stream",
     "text": [
      "['h', 'o', 'l', 'a']\n",
      "['q', 'u', 'e']\n",
      "['t', 'a', 'l']\n"
     ]
    }
   ],
   "source": [
    "lista = []\n",
    "for x in range(3):\n",
    " \n",
    " lista = list(input(\"ingrese listas\"))\n",
    " print(lista)"
   ]
  },
  {
   "cell_type": "markdown",
   "metadata": {},
   "source": [
    "    Crear una lista vacía letras_verificadas para las letras de la palabra luego de ser verificada\n",
    "    Definir la cantidad de letras de la palabra a encontrar\n",
    "    Si las letras existen en la palabra a encontrar y sus posiciones coinciden: encerrar en corchetes [] y agregar al resultado\n",
    "    Si las letras existen en la palabra a encontrar pero sus posiciones no coinciden: encerrar en parentesis () y agregar al resultado\n",
    "    Si no se cumple ninguna de las anteriores, agregar la letra a la lista vacía sin modificaciones\n",
    "    Retornar el resultado\n",
    "    "
   ]
  },
  {
   "cell_type": "code",
   "execution_count": null,
   "metadata": {},
   "outputs": [],
   "source": [
    "def obtener_fila_verificada(palabra_a_encontrar, palabra_ingresada):\n",
    "    \n",
    "    cantidad_de_letras_de_palabra_a_encontrar = 5\n",
    "\n",
    "    letras_verificadas = []\n",
    "\n",
    "    #Iteramos por cada letra de la palabra ingresada\n",
    "    for posicion in range(cantidad_de_letras_de_palabra_a_encontrar):\n",
    "\n",
    "        las_letras_son_iguales = palabra_a_encontrar[posicion] == palabra_ingresada[posicion]   \n",
    "\n",
    "        \n",
    "        la_letra_existe_en_la_palabra = palabra_ingresada[posicion] in palabra_a_encontrar\n",
    "\n",
    "        if las_letras_son_iguales:\n",
    "\n",
    "            letras_verificadas.append(\"[\" + palabra_ingresada[posicion] + \"]\")\n",
    "\n",
    "        \n",
    "        elif la_letra_existe_en_la_palabra:\n",
    "\n",
    "            letras_verificadas.append(\"(\" + palabra_ingresada[posicion] + \")\")\n",
    "        \n",
    "        else:\n",
    "            letras_verificadas.append(palabra_ingresada[posicion])\n",
    "\n",
    "    \n",
    "    return letras_verificadas"
   ]
  },
  {
   "cell_type": "code",
   "execution_count": 3,
   "metadata": {},
   "outputs": [
    {
     "ename": "IndexError",
     "evalue": "string index out of range",
     "output_type": "error",
     "traceback": [
      "\u001b[0;31m---------------------------------------------------------------------------\u001b[0m",
      "\u001b[0;31mIndexError\u001b[0m                                Traceback (most recent call last)",
      "\u001b[1;32m/home/penguin/Escritorio/Penguin20/bootcamp_20/dia_3.ipynb Celda 26\u001b[0m line \u001b[0;36m3\n\u001b[1;32m     <a href='vscode-notebook-cell:/home/penguin/Escritorio/Penguin20/bootcamp_20/dia_3.ipynb#X34sZmlsZQ%3D%3D?line=24'>25</a>\u001b[0m             letras_verificadas\u001b[39m.\u001b[39mappend(palabra_ingresada[posicion])\n\u001b[1;32m     <a href='vscode-notebook-cell:/home/penguin/Escritorio/Penguin20/bootcamp_20/dia_3.ipynb#X34sZmlsZQ%3D%3D?line=27'>28</a>\u001b[0m     \u001b[39mreturn\u001b[39;00m letras_verificadas\n\u001b[0;32m---> <a href='vscode-notebook-cell:/home/penguin/Escritorio/Penguin20/bootcamp_20/dia_3.ipynb#X34sZmlsZQ%3D%3D?line=29'>30</a>\u001b[0m obtener_fila_verificada(\u001b[39m'\u001b[39;49m\u001b[39mhola\u001b[39;49m\u001b[39m'\u001b[39;49m, \u001b[39m'\u001b[39;49m\u001b[39mchola\u001b[39;49m\u001b[39m'\u001b[39;49m)\n",
      "\u001b[1;32m/home/penguin/Escritorio/Penguin20/bootcamp_20/dia_3.ipynb Celda 26\u001b[0m line \u001b[0;36m1\n\u001b[1;32m      <a href='vscode-notebook-cell:/home/penguin/Escritorio/Penguin20/bootcamp_20/dia_3.ipynb#X34sZmlsZQ%3D%3D?line=6'>7</a>\u001b[0m \u001b[39m#Iteramos por cada letra de la palabra ingresada\u001b[39;00m\n\u001b[1;32m      <a href='vscode-notebook-cell:/home/penguin/Escritorio/Penguin20/bootcamp_20/dia_3.ipynb#X34sZmlsZQ%3D%3D?line=7'>8</a>\u001b[0m \u001b[39mfor\u001b[39;00m posicion \u001b[39min\u001b[39;00m \u001b[39mrange\u001b[39m(cantidad_de_letras_de_palabra_a_encontrar):\n\u001b[0;32m---> <a href='vscode-notebook-cell:/home/penguin/Escritorio/Penguin20/bootcamp_20/dia_3.ipynb#X34sZmlsZQ%3D%3D?line=9'>10</a>\u001b[0m     las_letras_son_iguales \u001b[39m=\u001b[39m palabra_a_encontrar[posicion] \u001b[39m==\u001b[39m palabra_ingresada[posicion]   \n\u001b[1;32m     <a href='vscode-notebook-cell:/home/penguin/Escritorio/Penguin20/bootcamp_20/dia_3.ipynb#X34sZmlsZQ%3D%3D?line=12'>13</a>\u001b[0m     la_letra_existe_en_la_palabra \u001b[39m=\u001b[39m palabra_ingresada[posicion] \u001b[39min\u001b[39;00m palabra_a_encontrar\n\u001b[1;32m     <a href='vscode-notebook-cell:/home/penguin/Escritorio/Penguin20/bootcamp_20/dia_3.ipynb#X34sZmlsZQ%3D%3D?line=14'>15</a>\u001b[0m     \u001b[39mif\u001b[39;00m las_letras_son_iguales:\n",
      "\u001b[0;31mIndexError\u001b[0m: string index out of range"
     ]
    }
   ],
   "source": [
    "def obtener_fila_verificada(palabra_a_encontrar, palabra_ingresada):\n",
    "    \n",
    "    cantidad_de_letras_de_palabra_a_encontrar = 5\n",
    "\n",
    "    letras_verificadas = []\n",
    "\n",
    "    #Iteramos por cada letra de la palabra ingresada\n",
    "    for posicion in range(cantidad_de_letras_de_palabra_a_encontrar):\n",
    "\n",
    "        las_letras_son_iguales = palabra_a_encontrar[posicion] == palabra_ingresada[posicion]   \n",
    "\n",
    "        \n",
    "        la_letra_existe_en_la_palabra = palabra_ingresada[posicion] in palabra_a_encontrar\n",
    "\n",
    "        if las_letras_son_iguales:\n",
    "\n",
    "            letras_verificadas.append(\"[\" + palabra_ingresada[posicion] + \"]\")\n",
    "\n",
    "        \n",
    "        elif la_letra_existe_en_la_palabra:\n",
    "\n",
    "            letras_verificadas.append(\"(\" + palabra_ingresada[posicion] + \")\")\n",
    "        \n",
    "        else:\n",
    "            letras_verificadas.append(palabra_ingresada[posicion])\n",
    "\n",
    "    \n",
    "    return letras_verificadas\n",
    "\n",
    "obtener_fila_verificada('hola', 'chola')"
   ]
  }
 ],
 "metadata": {
  "kernelspec": {
   "display_name": "Python 3",
   "language": "python",
   "name": "python3"
  },
  "language_info": {
   "codemirror_mode": {
    "name": "ipython",
    "version": 3
   },
   "file_extension": ".py",
   "mimetype": "text/x-python",
   "name": "python",
   "nbconvert_exporter": "python",
   "pygments_lexer": "ipython3",
   "version": "3.11.6"
  }
 },
 "nbformat": 4,
 "nbformat_minor": 2
}
