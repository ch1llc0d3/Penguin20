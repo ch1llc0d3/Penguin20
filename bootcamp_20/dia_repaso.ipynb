{
 "cells": [
  {
   "cell_type": "markdown",
   "metadata": {},
   "source": [
    "Visual Studio Code es un editor de código fuente gratuito y de código abierto desarrollado por Microsoft. Es un programa versátil que admite varios lenguajes de programación. Incluye soporte para la depuración, control integrado de Git, resaltado de sintaxis, finalización inteligente de código, fragmentos y refactorización de código12."
   ]
  },
  {
   "cell_type": "markdown",
   "metadata": {},
   "source": [
    "Jupyter Notebook En una sola interfaz, los usuarios pueden escribir, documentar y ejecutar código, visualizar datos, realizar cálculos y ver los resultados. \n",
    "***"
   ]
  },
  {
   "cell_type": "markdown",
   "metadata": {},
   "source": [
    "## Challenge  🤺 - 15 min\n",
    "- Calculo del precio del polideportivo:\n",
    "\n",
    "El precio de alquilar un polideportivo es 120.000 guaranies. Dependiendo de las siguientes condiciones, se puede obtener un descuento:\n",
    "\n",
    "- Si es mayor de edad y está trabajando -> Paga el 100%\n",
    "- Si es menor de edad y está trabajando -> Paga el 95%\n",
    "- Si es mayor de edad y no está trabajando -> Paga el 75%\n",
    "- Si es menor de edad y no está trabajando -> Paga el 50%\n",
    "\n",
    "Teniendo la edad de la persona y si trabaja o no, imprimir el precio de alquilar el polideportivo."
   ]
  },
  {
   "cell_type": "code",
   "execution_count": null,
   "metadata": {},
   "outputs": [],
   "source": [
    "# se define el precio total del alquiler\n",
    "precio_alquiler = 120000\n",
    "\n",
    "# se solicita al usuario que ingrese su edad y se convierte a entero\n",
    "edad = int(input('Ingrese su edad'))\n",
    "\n",
    "# se solicita al usuario que ingrese si tiene trabajo ('si' o 'no')\n",
    "tiene_trabajo = input(\"Cuenta con un trabajo? si o no\")\n",
    "\n",
    "# condiciones y comparaciones según la edad y la respuesta sobre tener trabajo\n",
    "if edad >= 18 and tiene_trabajo == 'si':\n",
    "    print(f'El precio de alquiler es de Gs. {precio_alquiler}')\n",
    "elif edad <= 17 and tiene_trabajo == 'si':\n",
    "    print(f'El precio del alquiler es de GS. {int(precio_alquiler * 0.95)}')\n",
    "elif edad >= 18 and tiene_trabajo == 'no':\n",
    "    print(f'El precio del alquiler es de GS. {int(precio_alquiler * 0.75)}')\n",
    "else:\n",
    "    print(f'El precio del alquiler es de Gs. {int(precio_alquiler * 0.50)}')\n"
   ]
  },
  {
   "cell_type": "markdown",
   "metadata": {},
   "source": [
    "# Challenge 15mins 🤺 \n",
    "Crear una funcion que pida como parametro el nombre, correo y contrasenha. \n",
    "Retornar true si la contrasenha tiene mas de 4 caracteres y el correo contiene un \"@\"\n",
    "De lo contrario, Retornar False\n",
    "\n",
    "Repetir el proceso 3 veces\n",
    "***"
   ]
  },
  {
   "cell_type": "markdown",
   "metadata": {},
   "source": [
    "### Operador in:\n",
    "\n",
    "- El operador in se utiliza para comprobar si un valor específico SI ESTA presente dentro de un iterable, como una cadena de texto, una lista. Devuelve True si el valor está presente y False si no lo está.\n"
   ]
  },
  {
   "cell_type": "code",
   "execution_count": null,
   "metadata": {},
   "outputs": [],
   "source": [
    "# definición de la función 'verificador' que toma un nombre, correo y contraseña como argumentos\n",
    "def verificador(nombre, correo, contrasenha):\n",
    "    # verifico si la longitud de la contraseña es mayor o igual a 4 y si hay un '@' en el correo\n",
    "    if len(contrasenha) >= 4 and '@' in correo:\n",
    "        print(f'Bienvenido a Penguin {nombre}')  # imprimo un mensaje de bienvenida si la condición es verdadera\n",
    "        return True  # devuelvo True si la condición es verdadera\n",
    "    else:\n",
    "        return False  # devuelvo False si la condición es falsa\n",
    "\n",
    "# llamadas a la función 'verificador' con diferentes datos\n",
    "var1 = verificador('Diana', 'diana@hotmail.es', 'headloguitarra')\n",
    "print(var1)  #iImprimo el resultado de la primera llamada\n",
    "\n",
    "print('--------------------------')\n",
    "\n",
    "var2 = verificador('july', 'july@yahoo.es', 'uno')\n",
    "print(var2)  # imprimo el resultado de la segunda llamada\n",
    "\n",
    "print('-------------------------')\n",
    "\n",
    "var3 = verificador('gustavo', 'gusgmail.com', 'holamundo')\n",
    "print(var3)  # imprimo el resultado de la tercera llamada\n"
   ]
  },
  {
   "cell_type": "markdown",
   "metadata": {},
   "source": [
    "## Challenge 🤺 - 15 min\n",
    "Diferencia entre el print() y el return.\n",
    "# Imaginemos un cajero automático:\n",
    "- Crear una funcion que imprima el saldo de la cuenta del usuario\n",
    "- Crear una funcion extraer_dinero() que tome un número (cantidad a extraer) como argumento. Retornar la cantidad a extraer y almacenarla en una variable.\n",
    "- Crear una función comprar_coquita() que tome un número (dinero disponible) como argumento. Si el dinero disponible es mayor o igual a 5000, imprimir \"Disfruta tu coquita\", si es menor a 5000 imprimir \"Hendy\".\n",
    "***"
   ]
  },
  {
   "cell_type": "code",
   "execution_count": null,
   "metadata": {},
   "outputs": [],
   "source": [
    "### print() sirve para mostrar algo en pantalla. No podemos \"agarrar\" ningun valor porque print() NO nos devolvio/retorno nada. Le pedimos a un cajero que nos muestre/imprima algo en pantalla, pero NO nos devuelve nada.\n",
    "\n",
    "# definición de una función que imprime el saldo disponible.\n",
    "def imprimir_saldo():\n",
    "    print('Saldo disponible: 5000')\n",
    "\n",
    "dinero_disponible1_1 = imprimir_saldo() #al guardar la funcion en una variable luego\n",
    "print(dinero_disponible1_1) # al imprimir la variable que guarda la función y contiene un print, devuelve None\n",
    "\n",
    "\n",
    "# return sirve para obtener un dato de la funcion. Este dato puede ser utilizado posteriormente y/o almacenarse en alguna variable. Le pedimos al cajero que nos devuelva/retorne algo -- billetes -- para poder usar eso en otro lado.\n",
    "\n",
    "# definición de una función que devuelve la cantidad a extraer.\n",
    "def extraer_dinero(cantidad_a_extraer): \n",
    "    return cantidad_a_extraer\n",
    "\n",
    "# llamada a la función y almacenamiento del valor retornado en la variable 'dinero_disponible'\n",
    "dinero_disponible = extraer_dinero(1000) \n",
    "print(dinero_disponible) # imprime el valor retornado por la función\n",
    "\n",
    "# definición de una función que determina si se puede comprar una coquita.\n",
    "def comprar_coquita(dinero_disponible):\n",
    "    if dinero_disponible >= 5000:\n",
    "        print('Disfruta tu coquita')\n",
    "    else:\n",
    "        print('Hendy')\n",
    "\n",
    "comprar_coquita(dinero_disponible)"
   ]
  },
  {
   "cell_type": "markdown",
   "metadata": {},
   "source": [
    "## Challenge 🤺 - 15 min\n",
    "- Definir una variable que contenga un numero y preguntar al usuario por el numero hasta que acierte.\n",
    "- El programa debe tener una cantidad limitada de intentos.\n",
    "- Si falla imprimir si el numero a adivinar es mayor o menor que el numero ingresado y debe indicar la cantidad de intentos que le quedan.\n",
    "- Si acierta imprimir un mensaje.\n",
    "***"
   ]
  },
  {
   "cell_type": "code",
   "execution_count": null,
   "metadata": {},
   "outputs": [],
   "source": [
    "numero_secreto = 7  # guardo el número a adivinar en una variable\n",
    "intentos = 3        # guardo la cantidad de intentos en una variable\n",
    "\n",
    "while intentos > 0:  # gnicio un bucle 'while' con la condición de que haya intentos restantes\n",
    "    ingrese_numero = int(input(\"Ingrese un número: \"))  # pido al usuario que ingrese un número y lo convierto a entero\n",
    "    \n",
    "    # primer bloque if-elif-else:\n",
    "    if ingrese_numero < numero_secreto:  # si el número ingresado es menor al número secreto:\n",
    "        intentos = intentos - 1          # resto un intento\n",
    "        print(f\"El número ingresado es menor al número secreto, te quedan {intentos} intentos\")\n",
    "    elif ingrese_numero > numero_secreto:  # si el número ingresado es mayor al número secreto:\n",
    "        intentos = intentos - 1              # resto un intento\n",
    "        print(f\"El número ingresado es mayor al número secreto, te quedan {intentos} intentos\")\n",
    "    else:  # si el número ingresado es igual al número secreto:\n",
    "        print(\"¡Adivinaste!\")\n",
    "        break  # salgo del bucle 'while'\n",
    "\n",
    "    # segundo bloque if para verificar la cantidad de intentos\n",
    "    if intentos == 0:\n",
    "        print(\"Te quedaste sin intentos. El número secreto era\", numero_secreto)\n"
   ]
  },
  {
   "cell_type": "markdown",
   "metadata": {},
   "source": [
    "## Challenge 🤺 - 15 min\n",
    "Crear un programa que reciba una lista de supermercado e imprima todos los elementos de la lista \"enumerados\"."
   ]
  },
  {
   "cell_type": "code",
   "execution_count": null,
   "metadata": {},
   "outputs": [],
   "source": [
    "lista_supermercado = ['tomate', 'queso', 'leche', 'jamon']  # creo una lista con elementos de supermercado\n",
    "numerador = 0  # inicializo una variable para llevar la cuenta de los elementos de la lista\n",
    "\n",
    "for recorrer in lista_supermercado:  # inicio un bucle 'for' para recorrer cada elemento de la lista\n",
    "    numerador = numerador + 1  # incremento el valor de la variable numerador en cada iteración\n",
    "    print(f'{numerador} - {recorrer}')  # imprimo el índice numerado y el elemento correspondiente de la lista\n"
   ]
  },
  {
   "cell_type": "markdown",
   "metadata": {},
   "source": [
    "## Challenge 🤺 - 15 min\n",
    "Crear un programa que solicite al usuario ingresar una letra y una frase. El programa debe contar la cantidad de veces que encuentra la letra en la frase y luego imprimir un mensaje, ejemplo: Encontre \"3\" veces la letra \"o\""
   ]
  },
  {
   "cell_type": "code",
   "execution_count": 18,
   "metadata": {},
   "outputs": [
    {
     "name": "stdout",
     "output_type": "stream",
     "text": [
      "Encontre 0 veces la letra o\n"
     ]
    }
   ],
   "source": [
    "letra = input('Ingrese una letra')  # solicito al usuario que ingrese una letra\n",
    "frase = input('Ingrese una frase')  # solicito al usuario que ingrese una frase\n",
    "cantidad_letras = 0  # inicializo una variable para contar la cantidad de veces que aparece la letra en la frase\n",
    "\n",
    "for recorrer in frase:  # inicio un bucle 'for' para recorrer cada caracter de la frase\n",
    "    if letra == recorrer:  # verifico si el caracter actual es igual a la letra ingresada\n",
    "        cantidad_letras = cantidad_letras + 1  # incremento el contador si la letra coincide\n",
    "\n",
    "print(f'Encontré {cantidad_letras} veces la letra {letra}')  # muestro el resultado final\n"
   ]
  }
 ],
 "metadata": {
  "kernelspec": {
   "display_name": "Python 3",
   "language": "python",
   "name": "python3"
  },
  "language_info": {
   "codemirror_mode": {
    "name": "ipython",
    "version": 3
   },
   "file_extension": ".py",
   "mimetype": "text/x-python",
   "name": "python",
   "nbconvert_exporter": "python",
   "pygments_lexer": "ipython3",
   "version": "3.10.12"
  }
 },
 "nbformat": 4,
 "nbformat_minor": 2
}
