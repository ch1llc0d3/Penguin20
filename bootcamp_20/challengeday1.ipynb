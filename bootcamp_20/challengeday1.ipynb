{
 "cells": [
  {
   "cell_type": "markdown",
   "metadata": {},
   "source": [
    "El precio de alquilar un polideportivo es 120.000 guaranies. Dependiendo de las siguientes condiciones, se puede obtener un descuento:\n",
    "\n",
    "    Si es mayor de edad y está trabajando -> Paga el 100%\n",
    "    Si es menor de edad y está trabajando -> Paga el 95%\n",
    "    Si es mayor de edad y no está trabajando -> Paga el 75%\n",
    "    Si es menor de edad y no está trabajando -> Paga el 50%\n",
    "\n",
    "\n",
    "Teniendo la edad de la persona y si trabaja o no, imprimir el precio de alquilar el polideportivo."
   ]
  },
  {
   "cell_type": "code",
   "execution_count": 18,
   "metadata": {},
   "outputs": [
    {
     "data": {
      "text/plain": [
       "'(192301293.0*<function descuento at 0x7fce7c1d4e00>)'"
      ]
     },
     "execution_count": 18,
     "metadata": {},
     "output_type": "execute_result"
    }
   ],
   "source": [
    "#Programa sensillo \n",
    "def descuento(edad, work):\n",
    "    #Si es mayor de edad y está trabajando -> Paga el 100%\n",
    "    if edad >= 18 and work == True:\n",
    "        return 'Paga el 100%'\n",
    "    #Si es menor de edad y está trabajando -> Paga el 95%\n",
    "    elif edad < 18 and work == True:\n",
    "        return 'Paga el 95%'\n",
    "    #Si es mayor de edad y no está trabajando -> Paga el 75%\n",
    "    elif edad >= 18 and work == False:\n",
    "        return 'Paga el 75%'\n",
    "    #Si es menor de edad y no está trabajando -> Paga el 50%\n",
    "    else:\n",
    "        return 'Paga el 50%'\n",
    "descuento(18, True)\n",
    "\n",
    "#calculando el total\n",
    "total = float(input('Ingrese el precio total de alquiler'))\n",
    "\n",
    "def precio_final(total, descuento):\n",
    "    precio_final = f'({total}*{descuento})'\n",
    "    return precio_final\n",
    "\n",
    "\n",
    "precio_final(total, descuento)"
   ]
  },
  {
   "cell_type": "code",
   "execution_count": 22,
   "metadata": {},
   "outputs": [
    {
     "name": "stdout",
     "output_type": "stream",
     "text": [
      "Paga el 50%, es decir 60000.0\n"
     ]
    }
   ],
   "source": [
    "#Programa FINAL IMPRIMIENDO LOS PRECIOS Y DESCUENTOS\n",
    "precio = float(input('Ingrese el valor del alquiler total'))\n",
    "edad = int(input('Que edad tiene?'))\n",
    "work = input('Trabaja? si o no')[:2]\n",
    "\n",
    "    #Si es mayor de edad y está trabajando -> Paga el 100%\n",
    "if edad >= 18 and work == 'si':\n",
    "    print(f'Paga el 100%, es decir {precio}')\n",
    "    #Si es menor de edad y está trabajando -> Paga el 95%\n",
    "elif edad < 18 and work == 'si':\n",
    "    print(f'Paga el 95%, es decir {precio*0.95}')\n",
    "    #Si es mayor de edad y no está trabajando -> Paga el 75%\n",
    "elif edad >= 18 and work == 'no':\n",
    "    print(f'Paga el 75%, es decir {precio*0.75}')\n",
    "    #Si es menor de edad y no está trabajando -> Paga el 50%\n",
    "else:\n",
    "    print(f'Paga el 50%, es decir {precio*0.5}')\n"
   ]
  },
  {
   "cell_type": "markdown",
   "metadata": {},
   "source": [
    "Crear una funcion que pida como parametro el nombre, correo y password. \n",
    "Nombre = input\n",
    "COrreo = input\n",
    "password = input\n",
    "Retornar true si la pass tiene mas de 4 caracteres y el correo tiene un \n",
    "'@'. \n",
    "if len(pass) >= 4 and in '@':\n",
    "return True\n",
    "De lo contrario, Retornar False.\n",
    "else:\n",
    "return False\n",
    "Repetir el proceso\n",
    "\n",
    "for x in range(3)\n",
    "\n",
    "while \n",
    "\n"
   ]
  },
  {
   "cell_type": "code",
   "execution_count": null,
   "metadata": {},
   "outputs": [],
   "source": [
    "\n",
    "\n",
    "#Crear una funcion que pida como parametro el nombre, correo y password. \n",
    "Nombre = input('ingrese su nombre')\n",
    "Correo = input('ingrese su correo')\n",
    "password = input('ingrese contrasenha')\n",
    "\n",
    "#Retornar true si la pass tiene mas de 4 caracteres y el correo tiene un '@'. \n",
    "#if len(password) >= 4 and '@' in correo:\n",
    " #   return True\n",
    "#De lo contrario, Retornar False.\n",
    "#else:\n",
    "#    return False\n"
   ]
  },
  {
   "cell_type": "code",
   "execution_count": 51,
   "metadata": {},
   "outputs": [],
   "source": [
    "#Codigo con WHILE\n",
    "nombre = input('ingrese su nombre')\n",
    "correo = input('ingrese su correo')\n",
    "password = input('ingrese contrasenha')\n",
    "attempt = 0\n",
    "\n",
    "def ingreso(nombre, correo, password):\n",
    "        if len(password) >= 4 and '@' in correo:\n",
    "            print('Bienvenid@ a Pinwin {nombre}')\n",
    "            return True\n",
    "        else:\n",
    "            return False\n",
    "        \n",
    "ingreso(nombre, correo, password)\n",
    "\n",
    "for x in range(3):\n",
    "    ingreso(nombre, correo, password)\n",
    "\n"
   ]
  },
  {
   "cell_type": "markdown",
   "metadata": {},
   "source": [
    "Challenge 🤺 - 15 min\n",
    "Diferencia entre el print() y el return.\n",
    "Imaginemos un cajero automático...\n",
    "\n",
    "    Crear una funcion que imprima el saldo de la cuenta del usuario\n",
    "    Crear una funcion extraer_dinero() que tome un número (cantidad a extraer) como argumento. Retornar la cantidad a extraer y almacenarla en una variable.\n",
    "    Crear una función comprar_coquita() que tome un número (dinero disponible) como argumento. Si el dinero disponible es mayor o igual a 5000, imprimir \"Disfruta tu coquita\", si es menor a 5000 imprimir \"Hendy\"."
   ]
  },
  {
   "cell_type": "code",
   "execution_count": null,
   "metadata": {},
   "outputs": [],
   "source": []
  },
  {
   "cell_type": "markdown",
   "metadata": {},
   "source": [
    "Challenge 🤺 - 15 min\n",
    "\n",
    "    Definir una variable que contenga un numero y preguntar al usuario por el numero hasta que acierte.\n",
    "    El programa debe tener una cantidad limitada de intentos.\n",
    "    Si falla imprimir si el numero a adivinar es mayor o menor que el numero ingresado y debe indicar la cantidad de intentos que le quedan.\n",
    "    Si acierta imprimir un mensaje."
   ]
  },
  {
   "cell_type": "code",
   "execution_count": 84,
   "metadata": {},
   "outputs": [
    {
     "name": "stdout",
     "output_type": "stream",
     "text": [
      "Incorrecto prueba de nuevo\n",
      "Incorrecto prueba de nuevo\n",
      "Incorrecto prueba de nuevo\n",
      "\n",
      "Perdiste, tienes que pagar para volver a jugar, no se aceptan cheques\n"
     ]
    }
   ],
   "source": [
    "#Usando random y con For\n",
    "import random\n",
    "n = random.randint(1, 10)\n",
    "\n",
    "intentos = 3\n",
    "\n",
    "for intento in range(intentos):\n",
    "    prueba = int(input('Adivina un numero entre el 1 al 10 : '))\n",
    "\n",
    "    if prueba < n > prueba:\n",
    "        print('Incorrecto prueba de nuevo')\n",
    "    #elif prueba > n:\n",
    "        #print('incorrect try again')\n",
    "    else:\n",
    "        print()\n",
    "        print('Nada mal ', n)\n",
    "        break\n",
    "\n",
    "if prueba != n:\n",
    "    print()\n",
    "    print('Perdiste, tienes que pagar para volver a jugar, no se aceptan cheques')"
   ]
  },
  {
   "cell_type": "markdown",
   "metadata": {},
   "source": [
    "Challenge 🤺 - 15 min\n",
    "Crear un programa que reciba una lista de supermercado e imprima todos los elementos de la lista \"enumerados\"."
   ]
  },
  {
   "cell_type": "code",
   "execution_count": 116,
   "metadata": {},
   "outputs": [
    {
     "name": "stdout",
     "output_type": "stream",
     "text": [
      "[1] * lechuga\n",
      "[2] * tomate\n",
      "[3] * cebola\n"
     ]
    }
   ],
   "source": [
    "lista_super = []\n",
    "\n",
    "for i in range(3):\n",
    "    producto1 = input('que comprar?')\n",
    "    #lista_super.append(producto1)\n",
    "    print([i+1], '*', producto1)\n"
   ]
  },
  {
   "cell_type": "code",
   "execution_count": 109,
   "metadata": {},
   "outputs": [
    {
     "name": "stdout",
     "output_type": "stream",
     "text": [
      "1 spring\n",
      "2 summer\n",
      "3 fall\n",
      "4 winter\n"
     ]
    }
   ],
   "source": [
    "seasons = [\"spring\", \"summer\", \"fall\", \"winter\"]\n",
    "for i, season in enumerate(seasons):\n",
    "    print(i+1, season)"
   ]
  },
  {
   "cell_type": "code",
   "execution_count": 114,
   "metadata": {},
   "outputs": [
    {
     "name": "stdout",
     "output_type": "stream",
     "text": [
      "1 lechuga\n"
     ]
    }
   ],
   "source": [
    "super_lista = []\n",
    "len(super_lista) == 3\n",
    "item = input('que comprarias?')\n",
    "super_lista.append(item)\n",
    "for i, item in enumerate(super_lista):\n",
    "    print(i+1, item)\n"
   ]
  },
  {
   "cell_type": "markdown",
   "metadata": {},
   "source": [
    "Crear un programa que solicite al usuario ingresar una letra y una frase. \n",
    "El programa debe contar la cantidad de veces que encuentra la letra en la frase y luego imprimir un mensaje, ejemplo: Encontre \"3\" veces la letra \"o\""
   ]
  },
  {
   "cell_type": "code",
   "execution_count": 3,
   "metadata": {},
   "outputs": [
    {
     "name": "stdout",
     "output_type": "stream",
     "text": [
      "Encontramos la letra j, 0 veces\n"
     ]
    }
   ],
   "source": [
    "#Crear un programa que solicite al usuario ingresar una letra y una frase.\n",
    "letra = input('ingrese una leta')[:1]\n",
    "frase = input('ingrese una frase')\n",
    "cantidad = 0\n",
    "for recorre in frase:\n",
    "    if letra == recorre:\n",
    "        cantidad = cantidad + 1\n",
    "print(f'Encontramos la letra {letra}, {cantidad} veces')\n",
    "\n",
    "\n",
    "\n",
    "\n"
   ]
  }
 ],
 "metadata": {
  "kernelspec": {
   "display_name": "Python 3",
   "language": "python",
   "name": "python3"
  },
  "language_info": {
   "codemirror_mode": {
    "name": "ipython",
    "version": 3
   },
   "file_extension": ".py",
   "mimetype": "text/x-python",
   "name": "python",
   "nbconvert_exporter": "python",
   "pygments_lexer": "ipython3",
   "version": "3.11.6"
  }
 },
 "nbformat": 4,
 "nbformat_minor": 2
}
